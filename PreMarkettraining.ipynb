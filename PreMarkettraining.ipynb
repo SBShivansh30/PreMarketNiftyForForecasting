{
 "cells": [
  {
   "attachments": {},
   "cell_type": "markdown",
   "metadata": {},
   "source": [
    "Importing libraries"
   ]
  },
  {
   "cell_type": "code",
   "execution_count": 59,
   "metadata": {},
   "outputs": [],
   "source": [
    "import pandas as pd\n",
    "import numpy as np\n",
    "from sklearn.linear_model import Ridge\n",
    "from sklearn.svm import SVR\n",
    "from sklearn.ensemble import RandomForestRegressor\n",
    "from sklearn.feature_selection import RFE\n",
    "import warnings\n",
    "warnings.filterwarnings(\"ignore\")\n"
   ]
  },
  {
   "attachments": {},
   "cell_type": "markdown",
   "metadata": {},
   "source": [
    "Class and it's corresponding methods for training and testing"
   ]
  },
  {
   "cell_type": "code",
   "execution_count": 60,
   "metadata": {},
   "outputs": [],
   "source": [
    "class RegressionModels:\n",
    "    def __init__(self):\n",
    "        self.ridge_model = Ridge()\n",
    "        self.svr_model = SVR()\n",
    "        self.rf_model = RandomForestRegressor()\n",
    "        self.selected_features = None\n",
    "\n",
    "    def train(self, X_train, y_train):\n",
    "        self._feature_selection(X_train, y_train)\n",
    "        self.ridge_model.fit(X_train[self.selected_features], y_train)\n",
    "        self.svr_model.fit(X_train[self.selected_features], y_train)\n",
    "        self.rf_model.fit(X_train[self.selected_features], y_train)\n",
    "\n",
    "    def _feature_selection(self, X_train, y_train):\n",
    "        model = Ridge()\n",
    "        selector = RFE(estimator=model, n_features_to_select=3)\n",
    "        selector.fit(X_train, y_train)\n",
    "        self.selected_features = X_train.columns[selector.support_]\n",
    "\n",
    "    def predict(self, X_test):\n",
    "        ridge_pred = self.ridge_model.predict(X_test[self.selected_features].values.reshape(1, -1))\n",
    "        svr_pred = self.svr_model.predict(X_test[self.selected_features].values.reshape(1, -1))\n",
    "        rf_pred = self.rf_model.predict(X_test[self.selected_features].values.reshape(1, -1))\n",
    "\n",
    "        return ridge_pred, svr_pred, rf_pred\n",
    "\n",
    "    def evaluate(self, y_pred, y_test_actual):\n",
    "        ridge_pred, svr_pred, rf_pred= y_pred\n",
    "\n",
    "        ridge_error = np.abs(ridge_pred - y_test_actual)\n",
    "        svr_error = np.abs(svr_pred - y_test_actual)\n",
    "        rf_error = np.abs(rf_pred - y_test_actual)\n",
    "\n",
    "        print(\"Ridge Regression Error:\", ridge_error)\n",
    "        print(\"SVR Error:\", svr_error)\n",
    "        print(\"Random Forest Error:\", rf_error)\n",
    "        \n",
    "        ## to identify which one gives least error\n",
    "        best_model = min(ridge_error, svr_error, rf_error)\n",
    "        if best_model == ridge_error:\n",
    "            return \"Ridge Regression\"\n",
    "        elif best_model == svr_error:\n",
    "            return \"SVR\"\n",
    "        elif best_model == rf_error:\n",
    "            return \"Random Forest\"\n"
   ]
  },
  {
   "attachments": {},
   "cell_type": "markdown",
   "metadata": {},
   "source": [
    "Fetching Data"
   ]
  },
  {
   "cell_type": "code",
   "execution_count": 61,
   "metadata": {},
   "outputs": [
    {
     "name": "stdout",
     "output_type": "stream",
     "text": [
      "['Date' 'NIFTY Pre-Open' 'ADV/decline ratio'\n",
      " 'SGX NIFTY % gain at 9:08 IST' 'NIFTY % gain at 10 AM'\n",
      " 'NIFTY % gain at 12 PM' 'NIFTY % gain at 2 PM' 'NIFTY % gain at 3:30 PM']\n"
     ]
    },
    {
     "data": {
      "text/html": [
       "<div>\n",
       "<style scoped>\n",
       "    .dataframe tbody tr th:only-of-type {\n",
       "        vertical-align: middle;\n",
       "    }\n",
       "\n",
       "    .dataframe tbody tr th {\n",
       "        vertical-align: top;\n",
       "    }\n",
       "\n",
       "    .dataframe thead th {\n",
       "        text-align: right;\n",
       "    }\n",
       "</style>\n",
       "<table border=\"1\" class=\"dataframe\">\n",
       "  <thead>\n",
       "    <tr style=\"text-align: right;\">\n",
       "      <th></th>\n",
       "      <th>Date</th>\n",
       "      <th>NIFTY Pre-Open</th>\n",
       "      <th>ADV/decline ratio</th>\n",
       "      <th>SGX NIFTY % gain at 9:08 IST</th>\n",
       "      <th>NIFTY % gain at 10 AM</th>\n",
       "      <th>NIFTY % gain at 12 PM</th>\n",
       "      <th>NIFTY % gain at 2 PM</th>\n",
       "      <th>NIFTY % gain at 3:30 PM</th>\n",
       "    </tr>\n",
       "  </thead>\n",
       "  <tbody>\n",
       "    <tr>\n",
       "      <th>0</th>\n",
       "      <td>20230531</td>\n",
       "      <td>-0.003971</td>\n",
       "      <td>0.5</td>\n",
       "      <td>-0.003313</td>\n",
       "      <td>-0.003488</td>\n",
       "      <td>-0.007245</td>\n",
       "      <td>-0.006655</td>\n",
       "      <td>-0.005903</td>\n",
       "    </tr>\n",
       "    <tr>\n",
       "      <th>1</th>\n",
       "      <td>20230601</td>\n",
       "      <td>-0.000917</td>\n",
       "      <td>2.2</td>\n",
       "      <td>-0.000537</td>\n",
       "      <td>0.001349</td>\n",
       "      <td>0.000162</td>\n",
       "      <td>-0.000540</td>\n",
       "      <td>-0.002644</td>\n",
       "    </tr>\n",
       "    <tr>\n",
       "      <th>2</th>\n",
       "      <td>20230602</td>\n",
       "      <td>0.003462</td>\n",
       "      <td>11.5</td>\n",
       "      <td>0.000000</td>\n",
       "      <td>0.000270</td>\n",
       "      <td>0.002218</td>\n",
       "      <td>0.002380</td>\n",
       "      <td>0.002001</td>\n",
       "    </tr>\n",
       "  </tbody>\n",
       "</table>\n",
       "</div>"
      ],
      "text/plain": [
       "       Date  NIFTY Pre-Open  ADV/decline ratio  SGX NIFTY % gain at 9:08 IST  \\\n",
       "0  20230531       -0.003971                0.5                     -0.003313   \n",
       "1  20230601       -0.000917                2.2                     -0.000537   \n",
       "2  20230602        0.003462               11.5                      0.000000   \n",
       "\n",
       "   NIFTY % gain at 10 AM  NIFTY % gain at 12 PM  NIFTY % gain at 2 PM  \\\n",
       "0              -0.003488              -0.007245             -0.006655   \n",
       "1               0.001349               0.000162             -0.000540   \n",
       "2               0.000270               0.002218              0.002380   \n",
       "\n",
       "   NIFTY % gain at 3:30 PM  \n",
       "0                -0.005903  \n",
       "1                -0.002644  \n",
       "2                 0.002001  "
      ]
     },
     "execution_count": 61,
     "metadata": {},
     "output_type": "execute_result"
    }
   ],
   "source": [
    "# Fetching data\n",
    "data = pd.read_excel('Training&TestingData.xlsx')\n",
    "print(data.columns.values)\n",
    "data\n"
   ]
  },
  {
   "cell_type": "code",
   "execution_count": 62,
   "metadata": {},
   "outputs": [],
   "source": [
    "###building null dataframe to for storing forecasted values\n",
    "forecast_df = pd.DataFrame(index=['Ridge Regression', 'SVR', 'Random Forest'], \n",
    "                        columns=set(data.columns)-set(['NIFTY Pre-Open', 'ADV/decline ratio', 'SGX NIFTY % gain at 9:08 IST','Date']))\n"
   ]
  },
  {
   "cell_type": "code",
   "execution_count": 63,
   "metadata": {},
   "outputs": [
    {
     "data": {
      "text/html": [
       "<div>\n",
       "<style scoped>\n",
       "    .dataframe tbody tr th:only-of-type {\n",
       "        vertical-align: middle;\n",
       "    }\n",
       "\n",
       "    .dataframe tbody tr th {\n",
       "        vertical-align: top;\n",
       "    }\n",
       "\n",
       "    .dataframe thead th {\n",
       "        text-align: right;\n",
       "    }\n",
       "</style>\n",
       "<table border=\"1\" class=\"dataframe\">\n",
       "  <thead>\n",
       "    <tr style=\"text-align: right;\">\n",
       "      <th></th>\n",
       "      <th>NIFTY % gain at 10 AM</th>\n",
       "      <th>NIFTY % gain at 12 PM</th>\n",
       "      <th>NIFTY % gain at 2 PM</th>\n",
       "      <th>NIFTY % gain at 3:30 PM</th>\n",
       "    </tr>\n",
       "  </thead>\n",
       "  <tbody>\n",
       "    <tr>\n",
       "      <th>Ridge Regression</th>\n",
       "      <td>NaN</td>\n",
       "      <td>NaN</td>\n",
       "      <td>NaN</td>\n",
       "      <td>NaN</td>\n",
       "    </tr>\n",
       "    <tr>\n",
       "      <th>SVR</th>\n",
       "      <td>NaN</td>\n",
       "      <td>NaN</td>\n",
       "      <td>NaN</td>\n",
       "      <td>NaN</td>\n",
       "    </tr>\n",
       "    <tr>\n",
       "      <th>Random Forest</th>\n",
       "      <td>NaN</td>\n",
       "      <td>NaN</td>\n",
       "      <td>NaN</td>\n",
       "      <td>NaN</td>\n",
       "    </tr>\n",
       "  </tbody>\n",
       "</table>\n",
       "</div>"
      ],
      "text/plain": [
       "                 NIFTY % gain at 10 AM NIFTY % gain at 12 PM  \\\n",
       "Ridge Regression                   NaN                   NaN   \n",
       "SVR                                NaN                   NaN   \n",
       "Random Forest                      NaN                   NaN   \n",
       "\n",
       "                 NIFTY % gain at 2 PM NIFTY % gain at 3:30 PM  \n",
       "Ridge Regression                  NaN                     NaN  \n",
       "SVR                               NaN                     NaN  \n",
       "Random Forest                     NaN                     NaN  "
      ]
     },
     "execution_count": 63,
     "metadata": {},
     "output_type": "execute_result"
    }
   ],
   "source": [
    "forecast_df"
   ]
  },
  {
   "cell_type": "code",
   "execution_count": 64,
   "metadata": {},
   "outputs": [
    {
     "data": {
      "text/html": [
       "<div>\n",
       "<style scoped>\n",
       "    .dataframe tbody tr th:only-of-type {\n",
       "        vertical-align: middle;\n",
       "    }\n",
       "\n",
       "    .dataframe tbody tr th {\n",
       "        vertical-align: top;\n",
       "    }\n",
       "\n",
       "    .dataframe thead th {\n",
       "        text-align: right;\n",
       "    }\n",
       "</style>\n",
       "<table border=\"1\" class=\"dataframe\">\n",
       "  <thead>\n",
       "    <tr style=\"text-align: right;\">\n",
       "      <th></th>\n",
       "      <th>NIFTY % gain at 10 AM</th>\n",
       "      <th>NIFTY % gain at 12 PM</th>\n",
       "      <th>NIFTY % gain at 2 PM</th>\n",
       "      <th>NIFTY % gain at 3:30 PM</th>\n",
       "    </tr>\n",
       "  </thead>\n",
       "  <tbody>\n",
       "    <tr>\n",
       "      <th>Ridge Regression</th>\n",
       "      <td>0.015999</td>\n",
       "      <td>0.022594</td>\n",
       "      <td>0.01798</td>\n",
       "      <td>0.007228</td>\n",
       "    </tr>\n",
       "    <tr>\n",
       "      <th>SVR</th>\n",
       "      <td>-0.00107</td>\n",
       "      <td>-0.003541</td>\n",
       "      <td>-0.003597</td>\n",
       "      <td>-0.004273</td>\n",
       "    </tr>\n",
       "    <tr>\n",
       "      <th>Random Forest</th>\n",
       "      <td>0.000043</td>\n",
       "      <td>-0.001542</td>\n",
       "      <td>-0.002435</td>\n",
       "      <td>-0.003263</td>\n",
       "    </tr>\n",
       "  </tbody>\n",
       "</table>\n",
       "</div>"
      ],
      "text/plain": [
       "                 NIFTY % gain at 10 AM NIFTY % gain at 12 PM  \\\n",
       "Ridge Regression              0.015999              0.022594   \n",
       "SVR                           -0.00107             -0.003541   \n",
       "Random Forest                 0.000043             -0.001542   \n",
       "\n",
       "                 NIFTY % gain at 2 PM NIFTY % gain at 3:30 PM  \n",
       "Ridge Regression              0.01798                0.007228  \n",
       "SVR                         -0.003597               -0.004273  \n",
       "Random Forest               -0.002435               -0.003263  "
      ]
     },
     "execution_count": 64,
     "metadata": {},
     "output_type": "execute_result"
    }
   ],
   "source": [
    "##Running a loop to train the model for different times of the day\n",
    "for i in set(data.columns)-set(['NIFTY Pre-Open', 'ADV/decline ratio', 'SGX NIFTY % gain at 9:08 IST','Date']):\n",
    "    df = pd.DataFrame(data[['NIFTY Pre-Open', 'ADV/decline ratio', 'SGX NIFTY % gain at 9:08 IST', i]],\n",
    "                    columns=['NIFTY Pre-Open', 'ADV/decline ratio','SGX NIFTY % gain at 9:08 IST', i])\n",
    "\n",
    "\n",
    "    # Split the dataframe into training and test data for CROSS - VALIDATION\n",
    "    train_data = df.iloc[:2]\n",
    "    test_data = df.iloc[2]\n",
    "\n",
    "    X_train = train_data.iloc[:, :3]\n",
    "    y_train = train_data.iloc[:, 3].values.reshape(-1, 1)  # Reshape target variable to 2D array\n",
    "    X_test = test_data.iloc[:3]\n",
    "    y_test_actual = test_data.iloc[3]\n",
    "\n",
    "    \n",
    "    models = RegressionModels()\n",
    "\n",
    "    #Train the models\n",
    "    models.train(X_train, y_train)\n",
    "\n",
    "    # \n",
    "    #Calling prediction method in the class\n",
    "    y_pred = models.predict(X_test)\n",
    "\n",
    "    # forecasted values df\n",
    "    # print('x train columns', set(df.columns)-set(X_train.columns))\n",
    "    # forecast_df = pd.DataFrame(index=['Ridge Regression', 'SVR', 'Random Forest', 'Correlation Model'], \n",
    "    #                         columns=set(data.columns)-set(X_train.columns)-set(['Date']))\n",
    "    # print(y_pred)\n",
    "    # Add the forecasted values to the dataframe\n",
    "    forecast_df.loc['Ridge Regression',i] = y_pred[0][0][0]\n",
    "    forecast_df.loc['SVR',i] = y_pred[1][0]\n",
    "    forecast_df.loc['Random Forest',i] = y_pred[2][0]\n",
    "\n",
    "\n",
    "    # print('Actual Value')\n",
    "    # print(y_test_actual)\n",
    "\n",
    "    # print(\"Forecasted Values:\")\n",
    "\n",
    "forecast_df[['NIFTY % gain at 10 AM', 'NIFTY % gain at 12 PM',\n",
    "       'NIFTY % gain at 2 PM', 'NIFTY % gain at 3:30 PM']]\n"
   ]
  },
  {
   "attachments": {},
   "cell_type": "markdown",
   "metadata": {},
   "source": [
    "ACTUAL VALUES FOR 2nd June"
   ]
  },
  {
   "cell_type": "code",
   "execution_count": 65,
   "metadata": {},
   "outputs": [
    {
     "data": {
      "text/html": [
       "<div>\n",
       "<style scoped>\n",
       "    .dataframe tbody tr th:only-of-type {\n",
       "        vertical-align: middle;\n",
       "    }\n",
       "\n",
       "    .dataframe tbody tr th {\n",
       "        vertical-align: top;\n",
       "    }\n",
       "\n",
       "    .dataframe thead th {\n",
       "        text-align: right;\n",
       "    }\n",
       "</style>\n",
       "<table border=\"1\" class=\"dataframe\">\n",
       "  <thead>\n",
       "    <tr style=\"text-align: right;\">\n",
       "      <th></th>\n",
       "      <th>NIFTY % gain at 10 AM</th>\n",
       "      <th>NIFTY % gain at 12 PM</th>\n",
       "      <th>NIFTY % gain at 2 PM</th>\n",
       "      <th>NIFTY % gain at 3:30 PM</th>\n",
       "    </tr>\n",
       "  </thead>\n",
       "  <tbody>\n",
       "    <tr>\n",
       "      <th>2</th>\n",
       "      <td>0.00027</td>\n",
       "      <td>0.002218</td>\n",
       "      <td>0.00238</td>\n",
       "      <td>0.002001</td>\n",
       "    </tr>\n",
       "  </tbody>\n",
       "</table>\n",
       "</div>"
      ],
      "text/plain": [
       "   NIFTY % gain at 10 AM  NIFTY % gain at 12 PM  NIFTY % gain at 2 PM  \\\n",
       "2                0.00027               0.002218               0.00238   \n",
       "\n",
       "   NIFTY % gain at 3:30 PM  \n",
       "2                 0.002001  "
      ]
     },
     "execution_count": 65,
     "metadata": {},
     "output_type": "execute_result"
    }
   ],
   "source": [
    "pd.DataFrame(data.loc[2,:]).T[['NIFTY % gain at 10 AM', 'NIFTY % gain at 12 PM',\n",
    "       'NIFTY % gain at 2 PM', 'NIFTY % gain at 3:30 PM']]"
   ]
  },
  {
   "attachments": {},
   "cell_type": "markdown",
   "metadata": {},
   "source": [
    "FORECASTED RESULTS"
   ]
  },
  {
   "cell_type": "code",
   "execution_count": 66,
   "metadata": {},
   "outputs": [
    {
     "data": {
      "text/html": [
       "<div>\n",
       "<style scoped>\n",
       "    .dataframe tbody tr th:only-of-type {\n",
       "        vertical-align: middle;\n",
       "    }\n",
       "\n",
       "    .dataframe tbody tr th {\n",
       "        vertical-align: top;\n",
       "    }\n",
       "\n",
       "    .dataframe thead th {\n",
       "        text-align: right;\n",
       "    }\n",
       "</style>\n",
       "<table border=\"1\" class=\"dataframe\">\n",
       "  <thead>\n",
       "    <tr style=\"text-align: right;\">\n",
       "      <th></th>\n",
       "      <th>NIFTY % gain at 10 AM</th>\n",
       "      <th>NIFTY % gain at 12 PM</th>\n",
       "      <th>NIFTY % gain at 2 PM</th>\n",
       "      <th>NIFTY % gain at 3:30 PM</th>\n",
       "    </tr>\n",
       "  </thead>\n",
       "  <tbody>\n",
       "    <tr>\n",
       "      <th>Ridge Regression</th>\n",
       "      <td>0.015999</td>\n",
       "      <td>0.022594</td>\n",
       "      <td>0.01798</td>\n",
       "      <td>0.007228</td>\n",
       "    </tr>\n",
       "    <tr>\n",
       "      <th>SVR</th>\n",
       "      <td>-0.00107</td>\n",
       "      <td>-0.003541</td>\n",
       "      <td>-0.003597</td>\n",
       "      <td>-0.004273</td>\n",
       "    </tr>\n",
       "    <tr>\n",
       "      <th>Random Forest</th>\n",
       "      <td>0.000043</td>\n",
       "      <td>-0.001542</td>\n",
       "      <td>-0.002435</td>\n",
       "      <td>-0.003263</td>\n",
       "    </tr>\n",
       "  </tbody>\n",
       "</table>\n",
       "</div>"
      ],
      "text/plain": [
       "                 NIFTY % gain at 10 AM NIFTY % gain at 12 PM  \\\n",
       "Ridge Regression              0.015999              0.022594   \n",
       "SVR                           -0.00107             -0.003541   \n",
       "Random Forest                 0.000043             -0.001542   \n",
       "\n",
       "                 NIFTY % gain at 2 PM NIFTY % gain at 3:30 PM  \n",
       "Ridge Regression              0.01798                0.007228  \n",
       "SVR                         -0.003597               -0.004273  \n",
       "Random Forest               -0.002435               -0.003263  "
      ]
     },
     "execution_count": 66,
     "metadata": {},
     "output_type": "execute_result"
    }
   ],
   "source": [
    "forecast_df[['NIFTY % gain at 10 AM', 'NIFTY % gain at 12 PM',\n",
    "       'NIFTY % gain at 2 PM', 'NIFTY % gain at 3:30 PM']]"
   ]
  },
  {
   "attachments": {},
   "cell_type": "markdown",
   "metadata": {},
   "source": [
    "Building a Box Plot"
   ]
  },
  {
   "cell_type": "code",
   "execution_count": 67,
   "metadata": {},
   "outputs": [
    {
     "data": {
      "application/vnd.plotly.v1+json": {
       "config": {
        "plotlyServerURL": "https://plot.ly"
       },
       "data": [
        {
         "alignmentgroup": "True",
         "boxpoints": "all",
         "hovertemplate": "Day=%{x}<br>NIFTY Level=%{y}<extra></extra>",
         "legendgroup": "",
         "marker": {
          "color": "#636efa"
         },
         "name": "Market Data 15M",
         "notched": false,
         "offsetgroup": "",
         "orientation": "v",
         "showlegend": true,
         "type": "box",
         "x": [
          "31st May",
          "31st May",
          "31st May",
          "31st May",
          "31st May",
          "31st May",
          "31st May",
          "31st May",
          "31st May",
          "31st May",
          "31st May",
          "31st May",
          "31st May",
          "31st May",
          "31st May",
          "31st May",
          "31st May",
          "31st May",
          "31st May",
          "31st May",
          "31st May",
          "31st May",
          "31st May",
          "31st May",
          "31st May",
          "31st May",
          "1st June",
          "1st June",
          "1st June",
          "1st June",
          "1st June",
          "1st June",
          "1st June",
          "1st June",
          "1st June",
          "1st June",
          "1st June",
          "1st June",
          "1st June",
          "1st June",
          "1st June",
          "1st June",
          "1st June",
          "1st June",
          "1st June",
          "1st June",
          "1st June",
          "1st June",
          "1st June",
          "1st June",
          "1st June",
          "1st June",
          "2nd June",
          "2nd June",
          "2nd June",
          "2nd June",
          "2nd June",
          "2nd June",
          "2nd June",
          "2nd June",
          "2nd June",
          "2nd June",
          "2nd June",
          "2nd June",
          "2nd June",
          "2nd June",
          "2nd June",
          "2nd June",
          "2nd June",
          "2nd June",
          "2nd June",
          "2nd June",
          "2nd June",
          "2nd June",
          "2nd June",
          "2nd June",
          "2nd June",
          "2nd June"
         ],
         "x0": " ",
         "xaxis": "x",
         "y": [
          18560,
          18561,
          18558,
          18569,
          18545,
          18541,
          18548,
          18550,
          18543,
          18521,
          18505,
          18499,
          18498,
          18511,
          18507,
          18495,
          18507,
          18515,
          18520,
          18510,
          18531,
          18527,
          18543,
          18526,
          18521,
          18524,
          18519,
          18566,
          18571,
          18559,
          18562,
          18568,
          18567,
          18569,
          18557,
          18559,
          18557,
          18537,
          18553,
          18552,
          18548,
          18551,
          18560,
          18550,
          18528,
          18524,
          18530,
          18512,
          18524,
          18495,
          18486,
          18485,
          18552,
          18552,
          18504,
          18492,
          18487,
          18505,
          18508,
          18515,
          18511,
          18522,
          18533,
          18528,
          18521,
          18529,
          18535,
          18545,
          18554,
          18561,
          18554,
          18531,
          18521,
          18514,
          18530,
          18537,
          18525,
          18524
         ],
         "y0": " ",
         "yaxis": "y"
        },
        {
         "hovertemplate": "Day=%{x}<br>Pre-market NIFTY Level=%{y}<extra></extra>",
         "legendgroup": "",
         "marker": {
          "color": "red",
          "symbol": "circle"
         },
         "mode": "markers",
         "name": "Pre-market Value",
         "orientation": "v",
         "showlegend": true,
         "type": "scatter",
         "x": [
          "31st May",
          "1st June",
          "2nd June"
         ],
         "xaxis": "x",
         "y": [
          18560,
          18517,
          18551
         ],
         "yaxis": "y"
        }
       ],
       "layout": {
        "boxmode": "group",
        "legend": {
         "tracegroupgap": 0
        },
        "margin": {
         "t": 60
        },
        "template": {
         "data": {
          "bar": [
           {
            "error_x": {
             "color": "#2a3f5f"
            },
            "error_y": {
             "color": "#2a3f5f"
            },
            "marker": {
             "line": {
              "color": "#E5ECF6",
              "width": 0.5
             },
             "pattern": {
              "fillmode": "overlay",
              "size": 10,
              "solidity": 0.2
             }
            },
            "type": "bar"
           }
          ],
          "barpolar": [
           {
            "marker": {
             "line": {
              "color": "#E5ECF6",
              "width": 0.5
             },
             "pattern": {
              "fillmode": "overlay",
              "size": 10,
              "solidity": 0.2
             }
            },
            "type": "barpolar"
           }
          ],
          "carpet": [
           {
            "aaxis": {
             "endlinecolor": "#2a3f5f",
             "gridcolor": "white",
             "linecolor": "white",
             "minorgridcolor": "white",
             "startlinecolor": "#2a3f5f"
            },
            "baxis": {
             "endlinecolor": "#2a3f5f",
             "gridcolor": "white",
             "linecolor": "white",
             "minorgridcolor": "white",
             "startlinecolor": "#2a3f5f"
            },
            "type": "carpet"
           }
          ],
          "choropleth": [
           {
            "colorbar": {
             "outlinewidth": 0,
             "ticks": ""
            },
            "type": "choropleth"
           }
          ],
          "contour": [
           {
            "colorbar": {
             "outlinewidth": 0,
             "ticks": ""
            },
            "colorscale": [
             [
              0,
              "#0d0887"
             ],
             [
              0.1111111111111111,
              "#46039f"
             ],
             [
              0.2222222222222222,
              "#7201a8"
             ],
             [
              0.3333333333333333,
              "#9c179e"
             ],
             [
              0.4444444444444444,
              "#bd3786"
             ],
             [
              0.5555555555555556,
              "#d8576b"
             ],
             [
              0.6666666666666666,
              "#ed7953"
             ],
             [
              0.7777777777777778,
              "#fb9f3a"
             ],
             [
              0.8888888888888888,
              "#fdca26"
             ],
             [
              1,
              "#f0f921"
             ]
            ],
            "type": "contour"
           }
          ],
          "contourcarpet": [
           {
            "colorbar": {
             "outlinewidth": 0,
             "ticks": ""
            },
            "type": "contourcarpet"
           }
          ],
          "heatmap": [
           {
            "colorbar": {
             "outlinewidth": 0,
             "ticks": ""
            },
            "colorscale": [
             [
              0,
              "#0d0887"
             ],
             [
              0.1111111111111111,
              "#46039f"
             ],
             [
              0.2222222222222222,
              "#7201a8"
             ],
             [
              0.3333333333333333,
              "#9c179e"
             ],
             [
              0.4444444444444444,
              "#bd3786"
             ],
             [
              0.5555555555555556,
              "#d8576b"
             ],
             [
              0.6666666666666666,
              "#ed7953"
             ],
             [
              0.7777777777777778,
              "#fb9f3a"
             ],
             [
              0.8888888888888888,
              "#fdca26"
             ],
             [
              1,
              "#f0f921"
             ]
            ],
            "type": "heatmap"
           }
          ],
          "heatmapgl": [
           {
            "colorbar": {
             "outlinewidth": 0,
             "ticks": ""
            },
            "colorscale": [
             [
              0,
              "#0d0887"
             ],
             [
              0.1111111111111111,
              "#46039f"
             ],
             [
              0.2222222222222222,
              "#7201a8"
             ],
             [
              0.3333333333333333,
              "#9c179e"
             ],
             [
              0.4444444444444444,
              "#bd3786"
             ],
             [
              0.5555555555555556,
              "#d8576b"
             ],
             [
              0.6666666666666666,
              "#ed7953"
             ],
             [
              0.7777777777777778,
              "#fb9f3a"
             ],
             [
              0.8888888888888888,
              "#fdca26"
             ],
             [
              1,
              "#f0f921"
             ]
            ],
            "type": "heatmapgl"
           }
          ],
          "histogram": [
           {
            "marker": {
             "pattern": {
              "fillmode": "overlay",
              "size": 10,
              "solidity": 0.2
             }
            },
            "type": "histogram"
           }
          ],
          "histogram2d": [
           {
            "colorbar": {
             "outlinewidth": 0,
             "ticks": ""
            },
            "colorscale": [
             [
              0,
              "#0d0887"
             ],
             [
              0.1111111111111111,
              "#46039f"
             ],
             [
              0.2222222222222222,
              "#7201a8"
             ],
             [
              0.3333333333333333,
              "#9c179e"
             ],
             [
              0.4444444444444444,
              "#bd3786"
             ],
             [
              0.5555555555555556,
              "#d8576b"
             ],
             [
              0.6666666666666666,
              "#ed7953"
             ],
             [
              0.7777777777777778,
              "#fb9f3a"
             ],
             [
              0.8888888888888888,
              "#fdca26"
             ],
             [
              1,
              "#f0f921"
             ]
            ],
            "type": "histogram2d"
           }
          ],
          "histogram2dcontour": [
           {
            "colorbar": {
             "outlinewidth": 0,
             "ticks": ""
            },
            "colorscale": [
             [
              0,
              "#0d0887"
             ],
             [
              0.1111111111111111,
              "#46039f"
             ],
             [
              0.2222222222222222,
              "#7201a8"
             ],
             [
              0.3333333333333333,
              "#9c179e"
             ],
             [
              0.4444444444444444,
              "#bd3786"
             ],
             [
              0.5555555555555556,
              "#d8576b"
             ],
             [
              0.6666666666666666,
              "#ed7953"
             ],
             [
              0.7777777777777778,
              "#fb9f3a"
             ],
             [
              0.8888888888888888,
              "#fdca26"
             ],
             [
              1,
              "#f0f921"
             ]
            ],
            "type": "histogram2dcontour"
           }
          ],
          "mesh3d": [
           {
            "colorbar": {
             "outlinewidth": 0,
             "ticks": ""
            },
            "type": "mesh3d"
           }
          ],
          "parcoords": [
           {
            "line": {
             "colorbar": {
              "outlinewidth": 0,
              "ticks": ""
             }
            },
            "type": "parcoords"
           }
          ],
          "pie": [
           {
            "automargin": true,
            "type": "pie"
           }
          ],
          "scatter": [
           {
            "marker": {
             "colorbar": {
              "outlinewidth": 0,
              "ticks": ""
             }
            },
            "type": "scatter"
           }
          ],
          "scatter3d": [
           {
            "line": {
             "colorbar": {
              "outlinewidth": 0,
              "ticks": ""
             }
            },
            "marker": {
             "colorbar": {
              "outlinewidth": 0,
              "ticks": ""
             }
            },
            "type": "scatter3d"
           }
          ],
          "scattercarpet": [
           {
            "marker": {
             "colorbar": {
              "outlinewidth": 0,
              "ticks": ""
             }
            },
            "type": "scattercarpet"
           }
          ],
          "scattergeo": [
           {
            "marker": {
             "colorbar": {
              "outlinewidth": 0,
              "ticks": ""
             }
            },
            "type": "scattergeo"
           }
          ],
          "scattergl": [
           {
            "marker": {
             "colorbar": {
              "outlinewidth": 0,
              "ticks": ""
             }
            },
            "type": "scattergl"
           }
          ],
          "scattermapbox": [
           {
            "marker": {
             "colorbar": {
              "outlinewidth": 0,
              "ticks": ""
             }
            },
            "type": "scattermapbox"
           }
          ],
          "scatterpolar": [
           {
            "marker": {
             "colorbar": {
              "outlinewidth": 0,
              "ticks": ""
             }
            },
            "type": "scatterpolar"
           }
          ],
          "scatterpolargl": [
           {
            "marker": {
             "colorbar": {
              "outlinewidth": 0,
              "ticks": ""
             }
            },
            "type": "scatterpolargl"
           }
          ],
          "scatterternary": [
           {
            "marker": {
             "colorbar": {
              "outlinewidth": 0,
              "ticks": ""
             }
            },
            "type": "scatterternary"
           }
          ],
          "surface": [
           {
            "colorbar": {
             "outlinewidth": 0,
             "ticks": ""
            },
            "colorscale": [
             [
              0,
              "#0d0887"
             ],
             [
              0.1111111111111111,
              "#46039f"
             ],
             [
              0.2222222222222222,
              "#7201a8"
             ],
             [
              0.3333333333333333,
              "#9c179e"
             ],
             [
              0.4444444444444444,
              "#bd3786"
             ],
             [
              0.5555555555555556,
              "#d8576b"
             ],
             [
              0.6666666666666666,
              "#ed7953"
             ],
             [
              0.7777777777777778,
              "#fb9f3a"
             ],
             [
              0.8888888888888888,
              "#fdca26"
             ],
             [
              1,
              "#f0f921"
             ]
            ],
            "type": "surface"
           }
          ],
          "table": [
           {
            "cells": {
             "fill": {
              "color": "#EBF0F8"
             },
             "line": {
              "color": "white"
             }
            },
            "header": {
             "fill": {
              "color": "#C8D4E3"
             },
             "line": {
              "color": "white"
             }
            },
            "type": "table"
           }
          ]
         },
         "layout": {
          "annotationdefaults": {
           "arrowcolor": "#2a3f5f",
           "arrowhead": 0,
           "arrowwidth": 1
          },
          "autotypenumbers": "strict",
          "coloraxis": {
           "colorbar": {
            "outlinewidth": 0,
            "ticks": ""
           }
          },
          "colorscale": {
           "diverging": [
            [
             0,
             "#8e0152"
            ],
            [
             0.1,
             "#c51b7d"
            ],
            [
             0.2,
             "#de77ae"
            ],
            [
             0.3,
             "#f1b6da"
            ],
            [
             0.4,
             "#fde0ef"
            ],
            [
             0.5,
             "#f7f7f7"
            ],
            [
             0.6,
             "#e6f5d0"
            ],
            [
             0.7,
             "#b8e186"
            ],
            [
             0.8,
             "#7fbc41"
            ],
            [
             0.9,
             "#4d9221"
            ],
            [
             1,
             "#276419"
            ]
           ],
           "sequential": [
            [
             0,
             "#0d0887"
            ],
            [
             0.1111111111111111,
             "#46039f"
            ],
            [
             0.2222222222222222,
             "#7201a8"
            ],
            [
             0.3333333333333333,
             "#9c179e"
            ],
            [
             0.4444444444444444,
             "#bd3786"
            ],
            [
             0.5555555555555556,
             "#d8576b"
            ],
            [
             0.6666666666666666,
             "#ed7953"
            ],
            [
             0.7777777777777778,
             "#fb9f3a"
            ],
            [
             0.8888888888888888,
             "#fdca26"
            ],
            [
             1,
             "#f0f921"
            ]
           ],
           "sequentialminus": [
            [
             0,
             "#0d0887"
            ],
            [
             0.1111111111111111,
             "#46039f"
            ],
            [
             0.2222222222222222,
             "#7201a8"
            ],
            [
             0.3333333333333333,
             "#9c179e"
            ],
            [
             0.4444444444444444,
             "#bd3786"
            ],
            [
             0.5555555555555556,
             "#d8576b"
            ],
            [
             0.6666666666666666,
             "#ed7953"
            ],
            [
             0.7777777777777778,
             "#fb9f3a"
            ],
            [
             0.8888888888888888,
             "#fdca26"
            ],
            [
             1,
             "#f0f921"
            ]
           ]
          },
          "colorway": [
           "#636efa",
           "#EF553B",
           "#00cc96",
           "#ab63fa",
           "#FFA15A",
           "#19d3f3",
           "#FF6692",
           "#B6E880",
           "#FF97FF",
           "#FECB52"
          ],
          "font": {
           "color": "#2a3f5f"
          },
          "geo": {
           "bgcolor": "white",
           "lakecolor": "white",
           "landcolor": "#E5ECF6",
           "showlakes": true,
           "showland": true,
           "subunitcolor": "white"
          },
          "hoverlabel": {
           "align": "left"
          },
          "hovermode": "closest",
          "mapbox": {
           "style": "light"
          },
          "paper_bgcolor": "white",
          "plot_bgcolor": "#E5ECF6",
          "polar": {
           "angularaxis": {
            "gridcolor": "white",
            "linecolor": "white",
            "ticks": ""
           },
           "bgcolor": "#E5ECF6",
           "radialaxis": {
            "gridcolor": "white",
            "linecolor": "white",
            "ticks": ""
           }
          },
          "scene": {
           "xaxis": {
            "backgroundcolor": "#E5ECF6",
            "gridcolor": "white",
            "gridwidth": 2,
            "linecolor": "white",
            "showbackground": true,
            "ticks": "",
            "zerolinecolor": "white"
           },
           "yaxis": {
            "backgroundcolor": "#E5ECF6",
            "gridcolor": "white",
            "gridwidth": 2,
            "linecolor": "white",
            "showbackground": true,
            "ticks": "",
            "zerolinecolor": "white"
           },
           "zaxis": {
            "backgroundcolor": "#E5ECF6",
            "gridcolor": "white",
            "gridwidth": 2,
            "linecolor": "white",
            "showbackground": true,
            "ticks": "",
            "zerolinecolor": "white"
           }
          },
          "shapedefaults": {
           "line": {
            "color": "#2a3f5f"
           }
          },
          "ternary": {
           "aaxis": {
            "gridcolor": "white",
            "linecolor": "white",
            "ticks": ""
           },
           "baxis": {
            "gridcolor": "white",
            "linecolor": "white",
            "ticks": ""
           },
           "bgcolor": "#E5ECF6",
           "caxis": {
            "gridcolor": "white",
            "linecolor": "white",
            "ticks": ""
           }
          },
          "title": {
           "x": 0.05
          },
          "xaxis": {
           "automargin": true,
           "gridcolor": "white",
           "linecolor": "white",
           "ticks": "",
           "title": {
            "standoff": 15
           },
           "zerolinecolor": "white",
           "zerolinewidth": 2
          },
          "yaxis": {
           "automargin": true,
           "gridcolor": "white",
           "linecolor": "white",
           "ticks": "",
           "title": {
            "standoff": 15
           },
           "zerolinecolor": "white",
           "zerolinewidth": 2
          }
         }
        },
        "title": {
         "text": "Box Plot of NIFTY Data and Pre-market level"
        },
        "xaxis": {
         "anchor": "y",
         "domain": [
          0,
          1
         ],
         "title": {
          "text": "Day"
         }
        },
        "yaxis": {
         "anchor": "x",
         "domain": [
          0,
          1
         ],
         "title": {
          "text": "NIFTY Level"
         }
        }
       }
      }
     },
     "metadata": {},
     "output_type": "display_data"
    }
   ],
   "source": [
    "import plotly.express as px\n",
    "import pandas as pd\n",
    "\n",
    "# Example time series data for our three days on 15 min candle\n",
    "mkt_data = pd.read_excel('marketdata.xlsx')\n",
    "\n",
    "day1_data = mkt_data[20230531]  # Use column name instead of index\n",
    "day2_data = mkt_data[20230601]\n",
    "day3_data = mkt_data[20230602]\n",
    "\n",
    "custom_points = {'Day': ['31st May', '1st June', '2nd June'],\n",
    "                 'Pre-market NIFTY Level': [18560, 18517, 18551]}\n",
    "\n",
    "# Combine the data into a single dataframe\n",
    "data = pd.DataFrame({'31st May': day1_data, '1st June': day2_data, '2nd June': day3_data})\n",
    "custom_data = pd.DataFrame(custom_points)\n",
    "\n",
    "# Convert the dataframe into \"long\" format\n",
    "data_long = pd.melt(data, var_name='Day', value_name='NIFTY Level')\n",
    "\n",
    "# Generate the advanced box plot using plotly\n",
    "fig = px.box(data_long, x='Day', y='NIFTY Level', points='all')\n",
    "\n",
    "# Add custom points using scatter trace\n",
    "# fig.add_trace(px.scatter(custom_data, x='Day', y='Value',color_discrete_sequence=['red'], size_max=10000 ).data[0])\n",
    "scatter =px.scatter(custom_data, x='Day', y='Pre-market NIFTY Level',color_discrete_sequence=['red'], size_max=10000 ).data[0]\n",
    "scatter.name = 'Pre-market Value'\n",
    "fig.add_trace(scatter)\n",
    "\n",
    "# fig.update_traces(color='red')\n",
    "fig['data'][0]['showlegend']=True\n",
    "fig['data'][0]['name'] = 'Market Data 15M'\n",
    "fig['data'][1]['showlegend']=True\n",
    "fig['data'][1]['name'] = 'Pre-market Value'\n",
    "\n",
    "# print(fig['data'])\n",
    "# Set the plot title and axes labels\n",
    "fig.update_layout(title='Box Plot of NIFTY Data and Pre-market level',\n",
    "                  xaxis_title='Day',\n",
    "                  yaxis_title='NIFTY Level')\n",
    "\n",
    "# Display the plot\n",
    "fig.show()\n"
   ]
  }
 ],
 "metadata": {
  "kernelspec": {
   "display_name": "base",
   "language": "python",
   "name": "python3"
  },
  "language_info": {
   "codemirror_mode": {
    "name": "ipython",
    "version": 3
   },
   "file_extension": ".py",
   "mimetype": "text/x-python",
   "name": "python",
   "nbconvert_exporter": "python",
   "pygments_lexer": "ipython3",
   "version": "3.9.12"
  },
  "orig_nbformat": 4
 },
 "nbformat": 4,
 "nbformat_minor": 2
}
